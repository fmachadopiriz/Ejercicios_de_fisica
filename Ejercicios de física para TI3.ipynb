{
  "cells": [
    {
      "cell_type": "markdown",
      "metadata": {
        "nteract": {
          "transient": {
            "deleting": false
          }
        }
      },
      "source": [
        "Queremos que conozcan los conceptos de ciencias básicas necesarios para que puedas construir y explicar como funciona tu cámara oscura. De paso vamos a practicar conceptos que aprendiste en bachillerato."
      ]
    },
    {
      "cell_type": "markdown",
      "metadata": {},
      "source": [
        "**No entregar a los estudiantes**\n",
        "https://towardsdatascience.com/write-markdown-latex-in-the-jupyter-notebook-10985edb91fd\n",
        "https://www.convertir-unidades.info/convertidor-de-unidades.php?tipo=entfernung"
      ]
    },
    {
      "cell_type": "markdown",
      "metadata": {},
      "source": [
        "Para lograr que la imagen captada por la cámara se pueda ver fuera de ella, vas a tener que usar espejos para cambiar la dirección de la luz y lentes para ajustar el foco de la luz. Resuelve estos ejercicios para familiarizarte con estos conceptos. Vas a tener que usarlos para explicar cómo has construido tu cámara y por qué tiene las dimensiones y el diseño que tiene."
      ]
    },
    {
      "cell_type": "markdown",
      "metadata": {},
      "source": [
        "Leer la sección 32.2 Lentes ddel libro de Física para la ciencia y la tecnología de Tipler y Mosca\n",
        "\n",
        "Te vamos a dar una lente para tu cámara oscura para concentar los haces de luz que recibe tu cámara en un punto. Vas a tener que determinar dónde colocar esa lente usando entre otras la ecuación del contructor de lentes.\n",
        "\n",
        "$$ \\frac{1}{f} = (n - 1)(\\frac{1}{r_{1}}-\\frac{1}{r_{2}}) $$\n",
        "\n",
        "La lente que te vamos a dar es una lupa de vidrio con un índice de refracción $n$ = 1.5 y radios de curvatura de $r_{1}$ = 10 y $r_{2}$ = 15 cm. Halla la distancai focal $f$."
      ]
    },
    {
      "cell_type": "markdown",
      "metadata": {},
      "source": [
        "Leer la sección 31.6 del libro de Física para la ciencia y la tecnología de Tipler y Mosca"
      ]
    },
    {
      "cell_type": "markdown",
      "metadata": {},
      "source": [
        "El ángulo de refracción $\\theta _{2}$ depende del ángulo de incidencia $\\theta _{1}$ y de la velocidad relativa de la luz en los dos medios $v_{1}$ y $v_{2}$.\n",
        "\n",
        "$$ \\frac{1}{v_{1}} sen \\space \\theta_{1} = \\frac{1}{v_{2}} sen \\space \\theta_{2} $$\n",
        "\n",
        "Para un ángulo $\\theta _{1}$ = 45 y un índice de refracción 1.33 del vidio, calcula el ángulo de refracción. "
      ]
    },
    {
      "cell_type": "markdown",
      "metadata": {
        "nteract": {
          "transient": {
            "deleting": false
          }
        }
      },
      "source": [
        "La cámara oscura obviamente funciona con luz. La luz viaja a 299.792.458 m/s, aunque para la mayor parte de las aplicaciones se utiliza el valor $ 3 \\times 10^8 m/s $ "
      ]
    },
    {
      "cell_type": "markdown",
      "metadata": {},
      "source": [
        "Sabiendo que $ 1 km = 10^3 m $, ¿cuál es la velocidad de la luz en $ km/s $?"
      ]
    },
    {
      "cell_type": "code",
      "execution_count": 1,
      "metadata": {
        "jupyter": {
          "outputs_hidden": false,
          "source_hidden": false
        },
        "nteract": {
          "transient": {
            "deleting": false
          }
        }
      },
      "outputs": [
        {
          "data": {
            "text/plain": [
              "1000"
            ]
          },
          "execution_count": 1,
          "metadata": {},
          "output_type": "execute_result"
        }
      ],
      "source": []
    }
  ],
  "metadata": {
    "kernelspec": {
      "display_name": "Python 3.10.5 64-bit",
      "language": "python",
      "name": "python3"
    },
    "language_info": {
      "codemirror_mode": {
        "name": "ipython",
        "version": 3
      },
      "file_extension": ".py",
      "mimetype": "text/x-python",
      "name": "python",
      "nbconvert_exporter": "python",
      "pygments_lexer": "ipython3",
      "version": "3.10.5"
    },
    "nteract": {
      "version": "nteract-front-end@1.0.0"
    },
    "vscode": {
      "interpreter": {
        "hash": "aee8b7b246df8f9039afb4144a1f6fd8d2ca17a180786b69acc140d282b71a49"
      }
    }
  },
  "nbformat": 4,
  "nbformat_minor": 2
}
